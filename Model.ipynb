{
  "nbformat": 4,
  "nbformat_minor": 0,
  "metadata": {
    "colab": {
      "provenance": [],
      "collapsed_sections": [
        "77newxas03dT"
      ],
      "gpuType": "T4"
    },
    "kernelspec": {
      "name": "python3",
      "display_name": "Python 3"
    },
    "language_info": {
      "name": "python"
    },
    "accelerator": "GPU"
  },
  "cells": [
    {
      "cell_type": "markdown",
      "source": [
        "##Data"
      ],
      "metadata": {
        "id": "77newxas03dT"
      }
    },
    {
      "cell_type": "code",
      "source": [
        "!pip install mediapipe"
      ],
      "metadata": {
        "id": "UIS5ZmQW4Eq3"
      },
      "execution_count": null,
      "outputs": []
    },
    {
      "cell_type": "code",
      "source": [
        "import cv2 # type: ignore\n",
        "import numpy as np # type: ignore\n",
        "import os\n",
        "from matplotlib import pyplot as plt # type: ignore\n",
        "import time\n",
        "import mediapipe as mp # type: ignore"
      ],
      "metadata": {
        "id": "MO700JqETj5a"
      },
      "execution_count": null,
      "outputs": []
    },
    {
      "cell_type": "code",
      "execution_count": null,
      "metadata": {
        "colab": {
          "base_uri": "https://localhost:8080/"
        },
        "id": "dVWwrqyJTRcX",
        "outputId": "1ab771c4-87ce-4f34-c4a0-76e08d8dff01"
      },
      "outputs": [
        {
          "output_type": "stream",
          "name": "stdout",
          "text": [
            "Mounted at /content/drive\n"
          ]
        }
      ],
      "source": [
        "from google.colab import drive\n",
        "drive.mount('/content/drive')"
      ]
    },
    {
      "cell_type": "code",
      "source": [
        "!wget https://github.com/Al-ameen007/SSL/raw/main/MP_Data.zip"
      ],
      "metadata": {
        "id": "Mwd1XOT_9JEG"
      },
      "execution_count": null,
      "outputs": []
    },
    {
      "cell_type": "code",
      "source": [
        "!unzip /content/MP_Data.zip"
      ],
      "metadata": {
        "id": "2jMkuB6K9g4l"
      },
      "execution_count": null,
      "outputs": []
    },
    {
      "cell_type": "code",
      "source": [
        "# Path for exported data, numpy arrays\n",
        "DATA_PATH = '/content/MP_Data'\n",
        "\n",
        "# Actions that we try to detect\n",
        "actions = np.array(['Ahlan', 'Shokran', 'Asef'])\n",
        "\n",
        "# Thirty videos worth of data\n",
        "no_sequences = 120\n",
        "\n",
        "# Videos are going to be 30 frames in length\n",
        "sequence_length = 30"
      ],
      "metadata": {
        "id": "4p2fgzCUTg5h"
      },
      "execution_count": null,
      "outputs": []
    },
    {
      "cell_type": "code",
      "source": [
        "from sklearn.model_selection import train_test_split\n",
        "from tensorflow.keras.utils import to_categorical # type: ignore\n",
        "label_map = {label:num for num, label in enumerate(actions)}\n",
        "label_map\n",
        "{'ahlan': 0, 'asef': 1, 'shokran': 2}\n",
        "sequences, labels = [], []"
      ],
      "metadata": {
        "id": "fjCPVnprTSn4"
      },
      "execution_count": null,
      "outputs": []
    },
    {
      "cell_type": "code",
      "source": [
        "for action in actions:\n",
        "    for sequence in np.array(os.listdir(os.path.join(DATA_PATH, action))).astype(int):\n",
        "        window = []\n",
        "        for frame_num in range(sequence_length):\n",
        "            res = np.load(os.path.join(DATA_PATH, action, str(sequence), \"{}.npy\".format(frame_num)))\n",
        "            window.append(res)\n",
        "        sequences.append(window)\n",
        "        labels.append(label_map[action])"
      ],
      "metadata": {
        "id": "u4TQBeYDTmyP"
      },
      "execution_count": null,
      "outputs": []
    },
    {
      "cell_type": "code",
      "source": [
        "X = np.array(sequences)\n",
        "y = to_categorical(labels).astype(int)\n",
        "X_train, X_test, y_train, y_test = train_test_split(X, y, test_size=0.2)\n",
        "print(X_train.shape, X_test.shape, y_train.shape, y_test.shape)"
      ],
      "metadata": {
        "colab": {
          "base_uri": "https://localhost:8080/"
        },
        "id": "Y4eT4o5AToCt",
        "outputId": "430311b8-12c7-456d-c71a-ee690ee7de11"
      },
      "execution_count": null,
      "outputs": [
        {
          "output_type": "stream",
          "name": "stdout",
          "text": [
            "(288, 30, 1662) (72, 30, 1662) (288, 3) (72, 3)\n"
          ]
        }
      ]
    },
    {
      "cell_type": "markdown",
      "source": [
        "##Model"
      ],
      "metadata": {
        "id": "rxF6km8Y02X3"
      }
    },
    {
      "cell_type": "code",
      "source": [
        "from tensorflow.keras.models import Sequential  # type: ignore\n",
        "from tensorflow.keras.layers import LSTM, Dense, Bidirectional, Dropout, BatchNormalization # type: ignore\n",
        "from tensorflow.keras.optimizers import Adam # type: ignore\n",
        "from tensorflow.keras.callbacks import LearningRateScheduler # type: ignore\n",
        "from tensorflow.keras.callbacks import TensorBoard # type: ignore\n",
        "import numpy as np\n",
        "\n",
        "# Define a custom learning rate scheduler\n",
        "def lr_scheduler(epoch, lr):\n",
        "    if epoch < 100:\n",
        "        return lr  # Keep the initial learning rate for the first 100 epochs\n",
        "    else:\n",
        "        return lr * np.exp(-0.1)  # Exponentially decrease the learning rate after 100 epochs"
      ],
      "metadata": {
        "id": "5oM5M4WR0-XZ"
      },
      "execution_count": null,
      "outputs": []
    },
    {
      "cell_type": "code",
      "source": [
        "# Define the model\n",
        "model = Sequential()\n",
        "model.add(Bidirectional(LSTM(128, return_sequences=True, activation='relu'), input_shape=(30, 1662)))\n",
        "model.add(Dropout(0.2))  # Add dropout for regularization\n",
        "model.add(BatchNormalization())  # Add batch normalization to stabilize training\n",
        "model.add(Bidirectional(LSTM(128, return_sequences=True, activation='relu')))\n",
        "model.add(Dropout(0.2))\n",
        "model.add(BatchNormalization())\n",
        "model.add(Bidirectional(LSTM(64, return_sequences=False, activation='relu')))\n",
        "model.add(Dropout(0.2))\n",
        "model.add(BatchNormalization())\n",
        "model.add(Dense(128, activation='relu'))\n",
        "model.add(Dropout(0.2))\n",
        "model.add(Dense(64, activation='relu'))\n",
        "model.add(Dense(actions.shape[0], activation='softmax'))"
      ],
      "metadata": {
        "id": "ZoaPsbwax97h"
      },
      "execution_count": null,
      "outputs": []
    },
    {
      "cell_type": "code",
      "source": [
        "# Compile the model with a custom learning rate scheduler\n",
        "adam_optimizer = Adam(learning_rate=0.001)\n",
        "model.compile(optimizer=adam_optimizer, loss='categorical_crossentropy', metrics=['accuracy'])\n",
        "\n",
        "# Define a tensorboard callback for visualization\n",
        "tb_callback = TensorBoard(log_dir='./logs', histogram_freq=1)\n",
        "\n",
        "# Train the model with the defined callbacks and custom learning rate scheduler\n",
        "model.fit(X_train, y_train, epochs=2000, callbacks=[tb_callback, LearningRateScheduler(lr_scheduler)],  verbose=0)"
      ],
      "metadata": {
        "colab": {
          "base_uri": "https://localhost:8080/"
        },
        "id": "5xRE4MLu7wcG",
        "outputId": "3d99e5c8-37b7-42af-c487-ae651157cddf"
      },
      "execution_count": null,
      "outputs": [
        {
          "output_type": "execute_result",
          "data": {
            "text/plain": [
              "<keras.src.callbacks.History at 0x7dae0afb0ca0>"
            ]
          },
          "metadata": {},
          "execution_count": 20
        }
      ]
    },
    {
      "cell_type": "code",
      "source": [
        "acc = 0\n",
        "for i in range(len(X_test)):\n",
        "  res = model.predict(X_test, verbose=0)\n",
        "  if np.argmax(res[i]) == np.argmax(y_test[i]):\n",
        "    acc+=1\n",
        "  print(actions[np.argmax(res[i])], actions[np.argmax(y_train[i])])\n",
        "\n",
        "print(acc/len(X_train))"
      ],
      "metadata": {
        "colab": {
          "base_uri": "https://localhost:8080/"
        },
        "id": "85LGXhu57ipf",
        "outputId": "b59d5d6b-c8a2-4fe7-eb96-5c4ad287b27b"
      },
      "execution_count": null,
      "outputs": [
        {
          "output_type": "stream",
          "name": "stdout",
          "text": [
            "Shokran Shokran\n",
            "Ahlan Ahlan\n",
            "Asef Ahlan\n",
            "Ahlan Asef\n",
            "Asef Ahlan\n",
            "Shokran Shokran\n",
            "Asef Shokran\n",
            "Shokran Asef\n",
            "Shokran Shokran\n",
            "Asef Asef\n",
            "Shokran Ahlan\n",
            "Asef Asef\n",
            "Ahlan Ahlan\n",
            "Ahlan Shokran\n",
            "Ahlan Asef\n",
            "Asef Shokran\n",
            "Asef Shokran\n",
            "Ahlan Asef\n",
            "Asef Ahlan\n",
            "Shokran Ahlan\n",
            "Asef Asef\n",
            "Shokran Ahlan\n",
            "Ahlan Shokran\n",
            "Asef Asef\n",
            "Ahlan Asef\n",
            "Asef Ahlan\n",
            "Asef Shokran\n",
            "Shokran Shokran\n",
            "Ahlan Asef\n",
            "Shokran Ahlan\n",
            "Shokran Ahlan\n",
            "Asef Ahlan\n",
            "Asef Ahlan\n",
            "Shokran Ahlan\n",
            "Asef Shokran\n",
            "Shokran Shokran\n",
            "Asef Asef\n",
            "Ahlan Asef\n",
            "Asef Asef\n",
            "Asef Asef\n",
            "Ahlan Ahlan\n",
            "Asef Shokran\n",
            "Asef Asef\n",
            "Asef Ahlan\n",
            "Ahlan Shokran\n",
            "Asef Shokran\n",
            "Shokran Asef\n",
            "Shokran Ahlan\n",
            "Shokran Ahlan\n",
            "Ahlan Shokran\n",
            "Asef Asef\n",
            "Shokran Asef\n",
            "Ahlan Asef\n",
            "Shokran Shokran\n",
            "Shokran Ahlan\n",
            "Shokran Shokran\n",
            "Shokran Asef\n",
            "Shokran Ahlan\n",
            "Ahlan Shokran\n",
            "Shokran Ahlan\n",
            "Ahlan Shokran\n",
            "Asef Ahlan\n",
            "Ahlan Shokran\n",
            "Ahlan Asef\n",
            "Ahlan Shokran\n",
            "Shokran Ahlan\n",
            "Ahlan Ahlan\n",
            "Asef Shokran\n",
            "Asef Ahlan\n",
            "Asef Shokran\n",
            "Ahlan Shokran\n",
            "Ahlan Shokran\n",
            "0.25\n"
          ]
        }
      ]
    },
    {
      "cell_type": "code",
      "source": [
        "model.save('action.h5')"
      ],
      "metadata": {
        "id": "R-Twte4z9IOa"
      },
      "execution_count": null,
      "outputs": []
    },
    {
      "cell_type": "code",
      "source": [],
      "metadata": {
        "id": "xkKJ-VC3HAyF"
      },
      "execution_count": null,
      "outputs": []
    }
  ]
}