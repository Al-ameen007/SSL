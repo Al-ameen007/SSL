{
 "cells": [
  {
   "cell_type": "markdown",
   "metadata": {},
   "source": [
    "# Imports"
   ]
  },
  {
   "cell_type": "code",
   "execution_count": 5,
   "metadata": {},
   "outputs": [],
   "source": [
    "import cv2 # type: ignore\n",
    "import numpy as np # type: ignore\n",
    "import os\n",
    "from matplotlib import pyplot as plt # type: ignore\n",
    "import time\n",
    "import mediapipe as mp # type: ignore"
   ]
  },
  {
   "cell_type": "markdown",
   "metadata": {},
   "source": [
    "# Keypoints"
   ]
  },
  {
   "cell_type": "code",
   "execution_count": 6,
   "metadata": {},
   "outputs": [],
   "source": [
    "mp_holistic = mp.solutions.holistic # Holistic model\n",
    "mp_drawing = mp.solutions.drawing_utils"
   ]
  },
  {
   "cell_type": "code",
   "execution_count": 7,
   "metadata": {},
   "outputs": [],
   "source": [
    "def mediapipe_detection(image, model):\n",
    "    image = cv2.cvtColor(image, cv2.COLOR_BGR2RGB) # COLOR CONVERSION BGR 2 RGB\n",
    "    image.flags.writeable = False                  # Image is no longer writeable\n",
    "    results = model.process(image)                 # Make prediction\n",
    "    image.flags.writeable = True                   # Image is now writeable \n",
    "    image = cv2.cvtColor(image, cv2.COLOR_RGB2BGR) # COLOR COVERSION RGB 2 BGR\n",
    "    return image, results"
   ]
  },
  {
   "cell_type": "code",
   "execution_count": 8,
   "metadata": {},
   "outputs": [],
   "source": [
    "def draw_landmarks(image, results):\n",
    "    mp_drawing.draw_landmarks(image, results.face_landmarks, mp_holistic.FACEMESH_TESSELATION) # Draw face connections\n",
    "    mp_drawing.draw_landmarks(image, results.pose_landmarks, mp_holistic.POSE_CONNECTIONS) # Draw pose connections\n",
    "    mp_drawing.draw_landmarks(image, results.left_hand_landmarks, mp_holistic.HAND_CONNECTIONS) # Draw left hand connections\n",
    "    mp_drawing.draw_landmarks(image, results.right_hand_landmarks, mp_holistic.HAND_CONNECTIONS) # Draw right hand connections"
   ]
  },
  {
   "cell_type": "code",
   "execution_count": 9,
   "metadata": {},
   "outputs": [],
   "source": [
    "def draw_styled_landmarks(image, results):\n",
    "    # Draw face connections\n",
    "    mp_drawing.draw_landmarks(image, results.face_landmarks, mp_holistic.FACEMESH_TESSELATION, \n",
    "                             mp_drawing.DrawingSpec(color=(80,110,10), thickness=1, circle_radius=1), \n",
    "                             mp_drawing.DrawingSpec(color=(80,256,121), thickness=1, circle_radius=1)\n",
    "                             ) \n",
    "    # # Draw pose connections\n",
    "    mp_drawing.draw_landmarks(image, results.pose_landmarks, mp_holistic.POSE_CONNECTIONS,\n",
    "                             mp_drawing.DrawingSpec(color=(80,22,10), thickness=2, circle_radius=4), \n",
    "                             mp_drawing.DrawingSpec(color=(80,44,121), thickness=2, circle_radius=2)\n",
    "                             ) \n",
    "    # Draw left hand connections\n",
    "    mp_drawing.draw_landmarks(image, results.left_hand_landmarks, mp_holistic.HAND_CONNECTIONS, \n",
    "                             mp_drawing.DrawingSpec(color=(121,22,76), thickness=2, circle_radius=4), \n",
    "                             mp_drawing.DrawingSpec(color=(121,44,250), thickness=2, circle_radius=2)\n",
    "                             ) \n",
    "    # Draw right hand connections  \n",
    "    mp_drawing.draw_landmarks(image, results.right_hand_landmarks, mp_holistic.HAND_CONNECTIONS, \n",
    "                             mp_drawing.DrawingSpec(color=(245,117,66), thickness=2, circle_radius=4), \n",
    "                             mp_drawing.DrawingSpec(color=(245,66,230), thickness=2, circle_radius=2)\n",
    "                             ) "
   ]
  },
  {
   "cell_type": "code",
   "execution_count": 10,
   "metadata": {},
   "outputs": [
    {
     "name": "stdout",
     "output_type": "stream",
     "text": [
      "<class 'mediapipe.python.solution_base.SolutionOutputs'>\n",
      "<class 'mediapipe.python.solution_base.SolutionOutputs'>\n",
      "<class 'mediapipe.python.solution_base.SolutionOutputs'>\n",
      "<class 'mediapipe.python.solution_base.SolutionOutputs'>\n",
      "<class 'mediapipe.python.solution_base.SolutionOutputs'>\n",
      "<class 'mediapipe.python.solution_base.SolutionOutputs'>\n",
      "<class 'mediapipe.python.solution_base.SolutionOutputs'>\n",
      "<class 'mediapipe.python.solution_base.SolutionOutputs'>\n",
      "<class 'mediapipe.python.solution_base.SolutionOutputs'>\n",
      "<class 'mediapipe.python.solution_base.SolutionOutputs'>\n",
      "<class 'mediapipe.python.solution_base.SolutionOutputs'>\n",
      "<class 'mediapipe.python.solution_base.SolutionOutputs'>\n",
      "<class 'mediapipe.python.solution_base.SolutionOutputs'>\n",
      "<class 'mediapipe.python.solution_base.SolutionOutputs'>\n",
      "<class 'mediapipe.python.solution_base.SolutionOutputs'>\n",
      "<class 'mediapipe.python.solution_base.SolutionOutputs'>\n",
      "<class 'mediapipe.python.solution_base.SolutionOutputs'>\n",
      "<class 'mediapipe.python.solution_base.SolutionOutputs'>\n",
      "<class 'mediapipe.python.solution_base.SolutionOutputs'>\n",
      "<class 'mediapipe.python.solution_base.SolutionOutputs'>\n",
      "<class 'mediapipe.python.solution_base.SolutionOutputs'>\n",
      "<class 'mediapipe.python.solution_base.SolutionOutputs'>\n",
      "<class 'mediapipe.python.solution_base.SolutionOutputs'>\n",
      "<class 'mediapipe.python.solution_base.SolutionOutputs'>\n",
      "<class 'mediapipe.python.solution_base.SolutionOutputs'>\n",
      "<class 'mediapipe.python.solution_base.SolutionOutputs'>\n",
      "<class 'mediapipe.python.solution_base.SolutionOutputs'>\n",
      "<class 'mediapipe.python.solution_base.SolutionOutputs'>\n",
      "<class 'mediapipe.python.solution_base.SolutionOutputs'>\n",
      "<class 'mediapipe.python.solution_base.SolutionOutputs'>\n",
      "<class 'mediapipe.python.solution_base.SolutionOutputs'>\n",
      "<class 'mediapipe.python.solution_base.SolutionOutputs'>\n"
     ]
    }
   ],
   "source": [
    "cap = cv2.VideoCapture(0)\n",
    "# Set mediapipe model \n",
    "with mp_holistic.Holistic(min_detection_confidence=0.5, min_tracking_confidence=0.5) as holistic:\n",
    "    while cap.isOpened():\n",
    "\n",
    "        # Read feed\n",
    "        ret, frame = cap.read()\n",
    "\n",
    "        # Make detections\n",
    "        image, results = mediapipe_detection(frame, holistic)\n",
    "        print(results)\n",
    "        \n",
    "        # Draw landmarks\n",
    "        draw_styled_landmarks(image, results)\n",
    "\n",
    "        # Show to screen\n",
    "        cv2.imshow('OpenCV Feed', image)\n",
    "\n",
    "        # Break gracefully\n",
    "        if cv2.waitKey(10) & 0xFF == ord('q'):\n",
    "            break\n",
    "    cap.release()\n",
    "    cv2.destroyAllWindows()"
   ]
  },
  {
   "cell_type": "code",
   "execution_count": 11,
   "metadata": {},
   "outputs": [],
   "source": [
    "def extract_keypoints(results):\n",
    "    pose = np.array([[res.x, res.y, res.z, res.visibility] for res in results.pose_landmarks.landmark]).flatten() if results.pose_landmarks else np.zeros(33*4)\n",
    "    face = np.array([[res.x, res.y, res.z] for res in results.face_landmarks.landmark]).flatten() if results.face_landmarks else np.zeros(468*3)\n",
    "    lh = np.array([[res.x, res.y, res.z] for res in results.left_hand_landmarks.landmark]).flatten() if results.left_hand_landmarks else np.zeros(21*3)\n",
    "    rh = np.array([[res.x, res.y, res.z] for res in results.right_hand_landmarks.landmark]).flatten() if results.right_hand_landmarks else np.zeros(21*3)\n",
    "    return np.concatenate([pose, face, lh, rh])"
   ]
  },
  {
   "cell_type": "code",
   "execution_count": 12,
   "metadata": {},
   "outputs": [],
   "source": [
    "result_test = extract_keypoints(results)"
   ]
  },
  {
   "cell_type": "markdown",
   "metadata": {},
   "source": [
    "# Setup Folders for Collection"
   ]
  },
  {
   "cell_type": "code",
   "execution_count": 14,
   "metadata": {},
   "outputs": [],
   "source": [
    "# Path for exported data, numpy arrays\n",
    "DATA_PATH = os.path.join('MP_Data') \n",
    "\n",
    "# Actions that we try to detect\n",
    "actions = np.array(['Ahlan', 'Shokran', 'Asef'])\n",
    "\n",
    "# Thirty videos worth of data\n",
    "no_sequences = 30\n",
    "\n",
    "# Videos are going to be 30 frames in length\n",
    "sequence_length = 30\n"
   ]
  },
  {
   "cell_type": "code",
   "execution_count": 15,
   "metadata": {},
   "outputs": [
    {
     "name": "stderr",
     "output_type": "stream",
     "text": [
      "INFO:root:Created action folder: MP_Data\\Ahlan\n",
      "INFO:root:Created folder: MP_Data\\Ahlan\\0\n",
      "INFO:root:Created folder: MP_Data\\Ahlan\\1\n",
      "INFO:root:Created folder: MP_Data\\Ahlan\\2\n",
      "INFO:root:Created folder: MP_Data\\Ahlan\\3\n",
      "INFO:root:Created folder: MP_Data\\Ahlan\\4\n",
      "INFO:root:Created folder: MP_Data\\Ahlan\\5\n",
      "INFO:root:Created folder: MP_Data\\Ahlan\\6\n",
      "INFO:root:Created folder: MP_Data\\Ahlan\\7\n",
      "INFO:root:Created folder: MP_Data\\Ahlan\\8\n",
      "INFO:root:Created folder: MP_Data\\Ahlan\\9\n",
      "INFO:root:Created folder: MP_Data\\Ahlan\\10\n",
      "INFO:root:Created folder: MP_Data\\Ahlan\\11\n",
      "INFO:root:Created folder: MP_Data\\Ahlan\\12\n",
      "INFO:root:Created folder: MP_Data\\Ahlan\\13\n",
      "INFO:root:Created folder: MP_Data\\Ahlan\\14\n",
      "INFO:root:Created folder: MP_Data\\Ahlan\\15\n",
      "INFO:root:Created folder: MP_Data\\Ahlan\\16\n",
      "INFO:root:Created folder: MP_Data\\Ahlan\\17\n",
      "INFO:root:Created folder: MP_Data\\Ahlan\\18\n",
      "INFO:root:Created folder: MP_Data\\Ahlan\\19\n",
      "INFO:root:Created folder: MP_Data\\Ahlan\\20\n",
      "INFO:root:Created folder: MP_Data\\Ahlan\\21\n",
      "INFO:root:Created folder: MP_Data\\Ahlan\\22\n",
      "INFO:root:Created folder: MP_Data\\Ahlan\\23\n",
      "INFO:root:Created folder: MP_Data\\Ahlan\\24\n",
      "INFO:root:Created folder: MP_Data\\Ahlan\\25\n",
      "INFO:root:Created folder: MP_Data\\Ahlan\\26\n",
      "INFO:root:Created folder: MP_Data\\Ahlan\\27\n",
      "INFO:root:Created folder: MP_Data\\Ahlan\\28\n",
      "INFO:root:Created folder: MP_Data\\Ahlan\\29\n",
      "INFO:root:Created action folder: MP_Data\\Shokran\n",
      "INFO:root:Created folder: MP_Data\\Shokran\\0\n",
      "INFO:root:Created folder: MP_Data\\Shokran\\1\n",
      "INFO:root:Created folder: MP_Data\\Shokran\\2\n",
      "INFO:root:Created folder: MP_Data\\Shokran\\3\n",
      "INFO:root:Created folder: MP_Data\\Shokran\\4\n",
      "INFO:root:Created folder: MP_Data\\Shokran\\5\n",
      "INFO:root:Created folder: MP_Data\\Shokran\\6\n",
      "INFO:root:Created folder: MP_Data\\Shokran\\7\n",
      "INFO:root:Created folder: MP_Data\\Shokran\\8\n",
      "INFO:root:Created folder: MP_Data\\Shokran\\9\n",
      "INFO:root:Created folder: MP_Data\\Shokran\\10\n",
      "INFO:root:Created folder: MP_Data\\Shokran\\11\n",
      "INFO:root:Created folder: MP_Data\\Shokran\\12\n",
      "INFO:root:Created folder: MP_Data\\Shokran\\13\n",
      "INFO:root:Created folder: MP_Data\\Shokran\\14\n",
      "INFO:root:Created folder: MP_Data\\Shokran\\15\n",
      "INFO:root:Created folder: MP_Data\\Shokran\\16\n",
      "INFO:root:Created folder: MP_Data\\Shokran\\17\n",
      "INFO:root:Created folder: MP_Data\\Shokran\\18\n",
      "INFO:root:Created folder: MP_Data\\Shokran\\19\n",
      "INFO:root:Created folder: MP_Data\\Shokran\\20\n",
      "INFO:root:Created folder: MP_Data\\Shokran\\21\n",
      "INFO:root:Created folder: MP_Data\\Shokran\\22\n",
      "INFO:root:Created folder: MP_Data\\Shokran\\23\n",
      "INFO:root:Created folder: MP_Data\\Shokran\\24\n",
      "INFO:root:Created folder: MP_Data\\Shokran\\25\n",
      "INFO:root:Created folder: MP_Data\\Shokran\\26\n",
      "INFO:root:Created folder: MP_Data\\Shokran\\27\n",
      "INFO:root:Created folder: MP_Data\\Shokran\\28\n",
      "INFO:root:Created folder: MP_Data\\Shokran\\29\n",
      "INFO:root:Created action folder: MP_Data\\Asef\n",
      "INFO:root:Created folder: MP_Data\\Asef\\0\n",
      "INFO:root:Created folder: MP_Data\\Asef\\1\n",
      "INFO:root:Created folder: MP_Data\\Asef\\2\n",
      "INFO:root:Created folder: MP_Data\\Asef\\3\n",
      "INFO:root:Created folder: MP_Data\\Asef\\4\n",
      "INFO:root:Created folder: MP_Data\\Asef\\5\n",
      "INFO:root:Created folder: MP_Data\\Asef\\6\n",
      "INFO:root:Created folder: MP_Data\\Asef\\7\n",
      "INFO:root:Created folder: MP_Data\\Asef\\8\n",
      "INFO:root:Created folder: MP_Data\\Asef\\9\n",
      "INFO:root:Created folder: MP_Data\\Asef\\10\n",
      "INFO:root:Created folder: MP_Data\\Asef\\11\n",
      "INFO:root:Created folder: MP_Data\\Asef\\12\n",
      "INFO:root:Created folder: MP_Data\\Asef\\13\n",
      "INFO:root:Created folder: MP_Data\\Asef\\14\n",
      "INFO:root:Created folder: MP_Data\\Asef\\15\n",
      "INFO:root:Created folder: MP_Data\\Asef\\16\n",
      "INFO:root:Created folder: MP_Data\\Asef\\17\n",
      "INFO:root:Created folder: MP_Data\\Asef\\18\n",
      "INFO:root:Created folder: MP_Data\\Asef\\19\n",
      "INFO:root:Created folder: MP_Data\\Asef\\20\n",
      "INFO:root:Created folder: MP_Data\\Asef\\21\n",
      "INFO:root:Created folder: MP_Data\\Asef\\22\n",
      "INFO:root:Created folder: MP_Data\\Asef\\23\n",
      "INFO:root:Created folder: MP_Data\\Asef\\24\n",
      "INFO:root:Created folder: MP_Data\\Asef\\25\n",
      "INFO:root:Created folder: MP_Data\\Asef\\26\n",
      "INFO:root:Created folder: MP_Data\\Asef\\27\n",
      "INFO:root:Created folder: MP_Data\\Asef\\28\n",
      "INFO:root:Created folder: MP_Data\\Asef\\29\n"
     ]
    }
   ],
   "source": [
    "import logging\n",
    "\n",
    "logging.basicConfig(level=logging.INFO)  # Enable logging for informational messages\n",
    "\n",
    "for action in actions:\n",
    "    try:\n",
    "        # Check if the action folder exists\n",
    "        action_path = os.path.join(DATA_PATH, action)\n",
    "        if not os.path.exists(action_path):\n",
    "            os.makedirs(action_path)\n",
    "            logging.info(f\"Created action folder: {action_path}\")\n",
    "\n",
    "        # Find existing folder numbers (assuming numeric names)\n",
    "        existing_folders = [int(folder) for folder in os.listdir(action_path) if folder.isdigit()]\n",
    "        dirmax = max(existing_folders, default=0)  # Handle empty folders\n",
    "\n",
    "        for sequence in range(0, no_sequences):\n",
    "            new_folder_name = str(dirmax + sequence)\n",
    "            new_folder_path = os.path.join(action_path, new_folder_name)\n",
    "            os.makedirs(new_folder_path)\n",
    "            logging.info(f\"Created folder: {new_folder_path}\")\n",
    "    except Exception as e:\n",
    "        logging.error(f\"Error creating folders for action '{action}': {e}\")\n"
   ]
  },
  {
   "cell_type": "markdown",
   "metadata": {},
   "source": [
    "# Collect Key points"
   ]
  },
  {
   "cell_type": "code",
   "execution_count": 15,
   "metadata": {},
   "outputs": [],
   "source": [
    "cap = cv2.VideoCapture(0)\n",
    "# Set mediapipe model \n",
    "with mp_holistic.Holistic(min_detection_confidence=0.5, min_tracking_confidence=0.5) as holistic:\n",
    "    \n",
    "    # NEW LOOP\n",
    "    # Loop through actions\n",
    "    for action in actions:\n",
    "        # Loop through sequences aka videos\n",
    "        for sequence in range(no_sequences):\n",
    "            # Loop through video length aka sequence length\n",
    "            for frame_num in range(sequence_length):\n",
    "\n",
    "                # Read feed\n",
    "                ret, frame = cap.read()\n",
    "\n",
    "                # Make detections\n",
    "                image, results = mediapipe_detection(frame, holistic)\n",
    "#                 print(results)\n",
    "\n",
    "                # Draw landmarks\n",
    "                draw_styled_landmarks(image, results)\n",
    "                \n",
    "                # NEW Apply wait logic\n",
    "                if frame_num == 0: \n",
    "                    cv2.putText(image, 'STARTING COLLECTION', (120,200), \n",
    "                               cv2.FONT_HERSHEY_SIMPLEX, 1, (0,255, 0), 4, cv2.LINE_AA)\n",
    "                    cv2.putText(image, 'Collecting frames for {} Video Number {}'.format(action, sequence), (15,12), \n",
    "                               cv2.FONT_HERSHEY_SIMPLEX, 0.5, (0, 0, 255), 1, cv2.LINE_AA)\n",
    "                    # Show to screen\n",
    "                    cv2.imshow('OpenCV Feed', image)\n",
    "                    cv2.waitKey(1000)\n",
    "                else: \n",
    "                    cv2.putText(image, 'Collecting frames for {} Video Number {}'.format(action, sequence), (15,12), \n",
    "                               cv2.FONT_HERSHEY_SIMPLEX, 0.5, (0, 0, 255), 1, cv2.LINE_AA)\n",
    "                    # Show to screen\n",
    "                    cv2.imshow('OpenCV Feed', image)\n",
    "                \n",
    "                # NEW Export keypoints\n",
    "                keypoints = extract_keypoints(results)\n",
    "                npy_path = os.path.join(DATA_PATH, action, str(sequence), str(frame_num))\n",
    "                np.save(npy_path, keypoints)\n",
    "\n",
    "                # Break gracefully\n",
    "                if cv2.waitKey(10) & 0xFF == ord('q'):\n",
    "                    break\n",
    "                    \n",
    "    cap.release()\n",
    "    cv2.destroyAllWindows()"
   ]
  },
  {
   "cell_type": "markdown",
   "metadata": {},
   "source": [
    "# Preprocess\n"
   ]
  },
  {
   "cell_type": "code",
   "execution_count": 18,
   "metadata": {},
   "outputs": [
    {
     "ename": "ModuleNotFoundError",
     "evalue": "No module named 'sklearn'",
     "output_type": "error",
     "traceback": [
      "\u001b[1;31m---------------------------------------------------------------------------\u001b[0m",
      "\u001b[1;31mModuleNotFoundError\u001b[0m                       Traceback (most recent call last)",
      "Cell \u001b[1;32mIn[18], line 1\u001b[0m\n\u001b[1;32m----> 1\u001b[0m \u001b[38;5;28;01mfrom\u001b[39;00m \u001b[38;5;21;01msklearn\u001b[39;00m\u001b[38;5;21;01m.\u001b[39;00m\u001b[38;5;21;01mmodel_selection\u001b[39;00m \u001b[38;5;28;01mimport\u001b[39;00m train_test_split\n\u001b[0;32m      2\u001b[0m \u001b[38;5;28;01mfrom\u001b[39;00m \u001b[38;5;21;01mtensorflow\u001b[39;00m\u001b[38;5;21;01m.\u001b[39;00m\u001b[38;5;21;01mkeras\u001b[39;00m\u001b[38;5;21;01m.\u001b[39;00m\u001b[38;5;21;01mutils\u001b[39;00m \u001b[38;5;28;01mimport\u001b[39;00m to_categorical\n",
      "\u001b[1;31mModuleNotFoundError\u001b[0m: No module named 'sklearn'"
     ]
    }
   ],
   "source": [
    "from sklearn.model_selection import train_test_split\n",
    "from tensorflow.keras.utils import to_categorical"
   ]
  },
  {
   "cell_type": "code",
   "execution_count": null,
   "metadata": {},
   "outputs": [],
   "source": [
    "label_map = {label:num for num, label in enumerate(actions)}\n",
    "label_map\n",
    "{'hello': 0, 'thanks': 1, 'iloveyou': 2}\n",
    "sequences, labels = [], []"
   ]
  },
  {
   "cell_type": "code",
   "execution_count": null,
   "metadata": {},
   "outputs": [],
   "source": [
    "for action in actions:\n",
    "    for sequence in np.array(os.listdir(os.path.join(DATA_PATH, action))).astype(int):\n",
    "        window = []\n",
    "        for frame_num in range(sequence_length):\n",
    "            res = np.load(os.path.join(DATA_PATH, action, str(sequence), \"{}.npy\".format(frame_num)))\n",
    "            window.append(res)\n",
    "        sequences.append(window)\n",
    "        labels.append(label_map[action])"
   ]
  },
  {
   "cell_type": "code",
   "execution_count": null,
   "metadata": {},
   "outputs": [],
   "source": [
    "X = np.array(sequences)\n",
    "y = to_categorical(labels).astype(int)\n",
    "X_train, X_test, y_train, y_test = train_test_split(X, y, test_size=0.05)"
   ]
  },
  {
   "cell_type": "code",
   "execution_count": null,
   "metadata": {},
   "outputs": [],
   "source": [
    "shutil.move(\"path/to/current/file\", \"path/to/new/destination/for/file\")\n"
   ]
  }
 ],
 "metadata": {
  "kernelspec": {
   "display_name": "Python 3",
   "language": "python",
   "name": "python3"
  },
  "language_info": {
   "codemirror_mode": {
    "name": "ipython",
    "version": 3
   },
   "file_extension": ".py",
   "mimetype": "text/x-python",
   "name": "python",
   "nbconvert_exporter": "python",
   "pygments_lexer": "ipython3",
   "version": "3.9.13"
  }
 },
 "nbformat": 4,
 "nbformat_minor": 2
}
